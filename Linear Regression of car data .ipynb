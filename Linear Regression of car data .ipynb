{
 "cells": [
  {
   "cell_type": "code",
   "execution_count": 1,
   "metadata": {},
   "outputs": [],
   "source": [
    "import numpy as np\n",
    "import pandas as pd\n",
    "from sklearn import datasets,linear_model,metrics\n",
    "from sklearn.linear_model import LinearRegression"
   ]
  },
  {
   "cell_type": "code",
   "execution_count": 2,
   "metadata": {},
   "outputs": [
    {
     "data": {
      "text/plain": [
       "((301, 9),\n",
       " Index(['Car_Name', 'Year', 'Selling_Price', 'Present_Price', 'Kms_Driven',\n",
       "        'Fuel_Type', 'Seller_Type', 'Transmission', 'Owner'],\n",
       "       dtype='object'),\n",
       " Car_Name          object\n",
       " Year               int64\n",
       " Selling_Price    float64\n",
       " Present_Price    float64\n",
       " Kms_Driven         int64\n",
       " Fuel_Type         object\n",
       " Seller_Type       object\n",
       " Transmission      object\n",
       " Owner              int64\n",
       " dtype: object)"
      ]
     },
     "execution_count": 2,
     "metadata": {},
     "output_type": "execute_result"
    }
   ],
   "source": [
    "# Read the dataset\n",
    "df= pd.read_csv('C:/Users/Geetha Jayaraj/Desktop/shyamkrishna-desktop/college work/ML Miniproject/car data.csv')\n",
    "df.shape, df.columns, df.dtypes"
   ]
  },
  {
   "cell_type": "code",
   "execution_count": 3,
   "metadata": {},
   "outputs": [
    {
     "data": {
      "text/plain": [
       "Car_Name         0\n",
       "Year             0\n",
       "Selling_Price    0\n",
       "Present_Price    0\n",
       "Kms_Driven       0\n",
       "Fuel_Type        0\n",
       "Seller_Type      0\n",
       "Transmission     0\n",
       "Owner            0\n",
       "dtype: int64"
      ]
     },
     "execution_count": 3,
     "metadata": {},
     "output_type": "execute_result"
    }
   ],
   "source": [
    "df.isna().sum() #isna() shows null/NaN value; sum() will give all of isna()"
   ]
  },
  {
   "cell_type": "code",
   "execution_count": 4,
   "metadata": {},
   "outputs": [
    {
     "data": {
      "text/plain": [
       "Index(['Year', 'Selling_Price', 'Present_Price', 'Kms_Driven', 'Fuel_Type',\n",
       "       'Seller_Type', 'Transmission', 'Owner', 'Current Year', 'Age'],\n",
       "      dtype='object')"
      ]
     },
     "execution_count": 4,
     "metadata": {},
     "output_type": "execute_result"
    }
   ],
   "source": [
    "final_dataset=df[['Year','Selling_Price','Present_Price','Kms_Driven','Fuel_Type','Seller_Type','Transmission','Owner']]\n",
    "final_dataset['Current Year']=2021\n",
    "final_dataset['Age']=final_dataset['Current Year']- final_dataset['Year']\n",
    "final_dataset.columns"
   ]
  },
  {
   "cell_type": "code",
   "execution_count": null,
   "metadata": {},
   "outputs": [],
   "source": []
  },
  {
   "cell_type": "code",
   "execution_count": 5,
   "metadata": {},
   "outputs": [],
   "source": [
    "#get correlations of each features in dataset\n",
    "import matplotlib.pyplot as plt\n",
    "import seaborn as sns\n",
    "\n",
    "corrmat = df.corr()\n",
    "top_corr_features = corrmat.index\n",
    "plt.figure(figsize=(20,20))\n",
    "#plot heat map\n",
    "g=sns.heatmap(df[top_corr_features].corr(),annot=True,cmap=\"RdYlGn\")"
   ]
  },
  {
   "cell_type": "code",
   "execution_count": 6,
   "metadata": {},
   "outputs": [
    {
     "data": {
      "text/plain": [
       "Index(['Year', 'Selling_Price', 'Present_Price', 'Kms_Driven', 'Owner',\n",
       "       'Current Year', 'Age', 'Fuel_Type_Diesel', 'Fuel_Type_Petrol',\n",
       "       'Seller_Type_Individual', 'Transmission_Manual'],\n",
       "      dtype='object')"
      ]
     },
     "execution_count": 6,
     "metadata": {},
     "output_type": "execute_result"
    }
   ],
   "source": [
    "\n",
    "final_dataset=pd.get_dummies(final_dataset,drop_first=True)\n",
    "final_dataset.columns\n"
   ]
  },
  {
   "cell_type": "code",
   "execution_count": 7,
   "metadata": {},
   "outputs": [],
   "source": [
    "#from sklearn.preprocessing import StandardScaler\n",
    "#scaler = StandardScaler()\n",
    "#final_dataset_scaled = final_dataset.copy()\n",
    "#col_name=['Year', 'Selling_Price', 'Present_Price', 'Kms_Driven', 'Owner',\n",
    "  #    'Current Year', 'Age', 'Fuel_Type_Diesel', 'Fuel_Type_Petrol',\n",
    " #      'Seller_Type_Individual', 'Transmission_Manual']\n",
    "#features= final_dataset_scaled[col_name]\n",
    "\n",
    "#final_dataset_scaled[col_name] = scaler.fit_transform(features.values)\n",
    "#final_dataset_scaled\n",
    "#final_dataset.head()\n",
    "#from sklearn.preprocessing import MinMaxScaler\n",
    "#scaler = MinMaxScaler()\n",
    "#final_dataset_scaled[col_name] = scaler.fit_transform(features.values)\n",
    "\n",
    "\n",
    "\n",
    "#Both standard scaler and minmax tranformation methods don't provide better accuracy"
   ]
  },
  {
   "cell_type": "code",
   "execution_count": 8,
   "metadata": {},
   "outputs": [],
   "source": [
    "y=final_dataset['Selling_Price']\n",
    "x= final_dataset[['Present_Price', 'Kms_Driven', 'Owner', 'Age','Fuel_Type_Diesel', \n",
    "                 'Fuel_Type_Petrol', 'Seller_Type_Individual','Transmission_Manual']]"
   ]
  },
  {
   "cell_type": "code",
   "execution_count": 9,
   "metadata": {},
   "outputs": [],
   "source": [
    "from sklearn.model_selection import train_test_split\n",
    "x_train,x_test,y_train,y_test=train_test_split(x,y,train_size=0.8,random_state=20)"
   ]
  },
  {
   "cell_type": "code",
   "execution_count": 10,
   "metadata": {},
   "outputs": [
    {
     "data": {
      "text/plain": [
       "0.8821211630919364"
      ]
     },
     "execution_count": 10,
     "metadata": {},
     "output_type": "execute_result"
    }
   ],
   "source": [
    "lr=LinearRegression()\n",
    "model=lr.fit(x_train,y_train)\n",
    "\n",
    "\n",
    "model.score(x,y)"
   ]
  },
  {
   "cell_type": "code",
   "execution_count": 11,
   "metadata": {},
   "outputs": [
    {
     "data": {
      "text/plain": [
       "0.8448023074231505"
      ]
     },
     "execution_count": 11,
     "metadata": {},
     "output_type": "execute_result"
    }
   ],
   "source": [
    "#from sklearn.linear_model import RidgeCV\n",
    "from sklearn.metrics import mean_squared_error\n",
    "#lr = RidgeCV()\n",
    "#ridgecv produces lower accuracy (32.06%)\n",
    "model=lr.fit(x_test,y_test)\n",
    "\n",
    "model.score(x,y)"
   ]
  },
  {
   "cell_type": "code",
   "execution_count": 12,
   "metadata": {},
   "outputs": [],
   "source": [
    "#score(X,Y) internally calculates Y'=predictor.predict(X) and then compares Y' against Y to give an accuracy measure.\n",
    "#This applies not only to logistic regression but to any other model. B.\n"
   ]
  },
  {
   "cell_type": "code",
   "execution_count": 13,
   "metadata": {},
   "outputs": [],
   "source": [
    "## finding r2 scores\n",
    "import sklearn.metrics as sm\n"
   ]
  },
  {
   "cell_type": "code",
   "execution_count": 14,
   "metadata": {},
   "outputs": [
    {
     "name": "stdout",
     "output_type": "stream",
     "text": [
      "Mean absolute error = 1.34\n",
      "Mean squared error = 4.62\n",
      "Median absolute error = 0.75\n",
      "Explain variance score = 0.82\n",
      "R2 score = 0.82\n"
     ]
    }
   ],
   "source": [
    "\n",
    "y_pred_train = lr.predict(x_train)# storing predicted values of (x_train) in an array for later use\n",
    "# evaluation metrics\n",
    "print(\"Mean absolute error =\", round(sm.mean_absolute_error(y_train, y_pred_train), 2)) \n",
    "print(\"Mean squared error =\", round(sm.mean_squared_error(y_train, y_pred_train), 2)) \n",
    "print(\"Median absolute error =\", round(sm.median_absolute_error(y_train, y_pred_train), 2)) \n",
    "print(\"Explain variance score =\", round(sm.explained_variance_score(y_train, y_pred_train), 2)) \n",
    "print(\"R2 score =\", round(sm.r2_score(y_train, y_pred_train), 2))"
   ]
  },
  {
   "cell_type": "code",
   "execution_count": 15,
   "metadata": {},
   "outputs": [
    {
     "name": "stdout",
     "output_type": "stream",
     "text": [
      "Mean absolute error = 0.91\n",
      "Mean squared error = 1.52\n",
      "Median absolute error = 0.64\n",
      "Explain variance score = 0.94\n",
      "R2 score = 0.94\n"
     ]
    }
   ],
   "source": [
    "y_pred_test = lr.predict(x_test)\n",
    "# evaluation metrics\n",
    "print(\"Mean absolute error =\", round(sm.mean_absolute_error(y_test, y_pred_test), 2)) \n",
    "print(\"Mean squared error =\", round(sm.mean_squared_error(y_test, y_pred_test), 2)) \n",
    "print(\"Median absolute error =\", round(sm.median_absolute_error(y_test, y_pred_test), 2)) \n",
    "print(\"Explain variance score =\", round(sm.explained_variance_score(y_test, y_pred_test), 2)) \n",
    "print(\"R2 score =\", round(sm.r2_score(y_test, y_pred_test), 2))"
   ]
  },
  {
   "cell_type": "code",
   "execution_count": 16,
   "metadata": {},
   "outputs": [
    {
     "name": "stdout",
     "output_type": "stream",
     "text": [
      "Model Performance\n",
      "Average Error: 0.9107 degrees.\n",
      "Accuracy = 33.38%.\n"
     ]
    }
   ],
   "source": [
    "predictions=lr.predict(x_test)\n",
    "#Determine Accuracy\n",
    "errors = abs(predictions - y_test)\n",
    "mape = 100 * np.mean(errors / y_test)\n",
    "accuracy = 100 - mape\n",
    "print('Model Performance')\n",
    "print('Average Error: {:0.4f} degrees.'.format(np.mean(errors)))\n",
    "print('Accuracy = {:0.2f}%.'.format(accuracy))"
   ]
  }
 ],
 "metadata": {
  "kernelspec": {
   "display_name": "Python 3",
   "language": "python",
   "name": "python3"
  },
  "language_info": {
   "codemirror_mode": {
    "name": "ipython",
    "version": 3
   },
   "file_extension": ".py",
   "mimetype": "text/x-python",
   "name": "python",
   "nbconvert_exporter": "python",
   "pygments_lexer": "ipython3",
   "version": "3.7.3"
  }
 },
 "nbformat": 4,
 "nbformat_minor": 2
}
